{
 "cells": [
  {
   "cell_type": "code",
   "execution_count": 1,
   "metadata": {},
   "outputs": [
    {
     "name": "stderr",
     "output_type": "stream",
     "text": [
      "/home/user/repos/open-r1_olmo/.venv/lib/python3.11/site-packages/tqdm/auto.py:21: TqdmWarning: IProgress not found. Please update jupyter and ipywidgets. See https://ipywidgets.readthedocs.io/en/stable/user_install.html\n",
      "  from .autonotebook import tqdm as notebook_tqdm\n"
     ]
    }
   ],
   "source": [
    "from transformers import AutoModelForCausalLM, AutoTokenizer, TextStreamer\n",
    "\n",
    "local_path = \"/home/user/repos/open-r1_olmo/data/HuggingFaceTB/SmolLM2-1.7B-Instruct\"\n",
    "\n",
    "# model_base = AutoModelForCausalLM.from_pretrained(\"HuggingFaceTB/SmolLM2-1.7B-Instruct\", device_map=\"auto\")\n",
    "# model_instruct = AutoModelForCausalLM.from_pretrained(\"Neelectric/SmolLM2-1.7B-Instruct_SFT\", device_map=\"auto\")\n",
    "model_grpo = AutoModelForCausalLM.from_pretrained(local_path, local_files_only=True, device_map=\"auto\")\n",
    "tok = AutoTokenizer.from_pretrained(local_path, local_files_only=True)\n"
   ]
  },
  {
   "cell_type": "code",
   "execution_count": 4,
   "metadata": {},
   "outputs": [
    {
     "name": "stdout",
     "output_type": "stream",
     "text": [
      "<class 'transformers.tokenization_utils_base.BatchEncoding'>\n",
      "{'input_ids': tensor([[    2,     2,     2,     2,     2,     2,     2,     2,     2,     2,\n",
      "             2,     2,     2,     2,     2,     2,     2,     2,     2,     2,\n",
      "             2,     2,     2,     2,     2,     2,     2,     2,     2,     2,\n",
      "             2,     2,     2,     2,     2,     2,     2,     2,     2,     2,\n",
      "             2,     2,     2,     2,     2,     2,     2,     2,     2,     2,\n",
      "             2,     2,     2,     2,     2,     1,  9690,   198,  2683,   359,\n",
      "           253,  5356,  5646, 11173,  3365,  3511,   308, 34519,    28,  7018,\n",
      "           411,   407, 19712,  8182,     2,   198,     1,  4093,   198,  2020,\n",
      "           800,  2731,  2444,    29,  7979,  3044, 40520,  1072,   216,    33,\n",
      "            41,    38,   457,    47,     2,   198,     1,   520,  9531,   198]]), 'attention_mask': tensor([[0, 0, 0, 0, 0, 0, 0, 0, 0, 0, 0, 0, 0, 0, 0, 0, 0, 0, 0, 0, 0, 0, 0, 0,\n",
      "         0, 0, 0, 0, 0, 0, 0, 0, 0, 0, 0, 0, 0, 0, 0, 0, 0, 0, 0, 0, 0, 0, 0, 0,\n",
      "         0, 0, 0, 0, 0, 0, 0, 1, 1, 1, 1, 1, 1, 1, 1, 1, 1, 1, 1, 1, 1, 1, 1, 1,\n",
      "         1, 1, 1, 1, 1, 1, 1, 1, 1, 1, 1, 1, 1, 1, 1, 1, 1, 1, 1, 1, 1, 1, 1, 1,\n",
      "         1, 1, 1, 1]])}\n",
      "{'data': {'input_ids': tensor([[    2,     2,     2,     2,     2,     2,     2,     2,     2,     2,\n",
      "             2,     2,     2,     2,     2,     2,     2,     2,     2,     2,\n",
      "             2,     2,     2,     2,     2,     2,     2,     2,     2,     2,\n",
      "             2,     2,     2,     2,     2,     2,     2,     2,     2,     2,\n",
      "             2,     2,     2,     2,     2,     2,     2,     2,     2,     2,\n",
      "             2,     2,     2,     2,     2,     1,  9690,   198,  2683,   359,\n",
      "           253,  5356,  5646, 11173,  3365,  3511,   308, 34519,    28,  7018,\n",
      "           411,   407, 19712,  8182,     2,   198,     1,  4093,   198,  2020,\n",
      "           800,  2731,  2444,    29,  7979,  3044, 40520,  1072,   216,    33,\n",
      "            41,    38,   457,    47,     2,   198,     1,   520,  9531,   198]]), 'attention_mask': tensor([[0, 0, 0, 0, 0, 0, 0, 0, 0, 0, 0, 0, 0, 0, 0, 0, 0, 0, 0, 0, 0, 0, 0, 0,\n",
      "         0, 0, 0, 0, 0, 0, 0, 0, 0, 0, 0, 0, 0, 0, 0, 0, 0, 0, 0, 0, 0, 0, 0, 0,\n",
      "         0, 0, 0, 0, 0, 0, 0, 1, 1, 1, 1, 1, 1, 1, 1, 1, 1, 1, 1, 1, 1, 1, 1, 1,\n",
      "         1, 1, 1, 1, 1, 1, 1, 1, 1, 1, 1, 1, 1, 1, 1, 1, 1, 1, 1, 1, 1, 1, 1, 1,\n",
      "         1, 1, 1, 1]])}, '_encodings': [Encoding(num_tokens=100, attributes=[ids, type_ids, tokens, offsets, attention_mask, special_tokens_mask, overflowing])], '_n_sequences': 1}\n",
      "<|im_end|><|im_end|><|im_end|><|im_end|><|im_end|><|im_end|><|im_end|><|im_end|><|im_end|><|im_end|><|im_end|><|im_end|><|im_end|><|im_end|><|im_end|><|im_end|><|im_end|><|im_end|><|im_end|><|im_end|><|im_end|><|im_end|><|im_end|><|im_end|><|im_end|><|im_end|><|im_end|><|im_end|><|im_end|><|im_end|><|im_end|><|im_end|><|im_end|><|im_end|><|im_end|><|im_end|><|im_end|><|im_end|><|im_end|><|im_end|><|im_end|><|im_end|><|im_end|><|im_end|><|im_end|><|im_end|><|im_end|><|im_end|><|im_end|><|im_end|><|im_end|><|im_end|><|im_end|><|im_end|><|im_end|><|im_start|>system\n",
      "You are a helpful AI assistant named SmolLM, trained by Hugging Face<|im_end|>\n",
      "<|im_start|>user\n",
      "How many positive whole-number divisors does 196 have?<|im_end|>\n",
      "<|im_start|>assistant\n",
      "The positive whole-number divisors of 196 are 1, 2, 4, 3, 6, 11, 12, 22, 23, 44, 52, 87, and 196.<|im_end|>\n"
     ]
    }
   ],
   "source": [
    "inputs = tok([\"How many positive whole-number divisors does 196 have?\"], return_tensors=\"pt\")\n",
    "streamer = TextStreamer(tok)\n",
    "\n",
    "conversation = [\n",
    "    {\"role\":\"user\", \"content\":\"How many positive whole-number divisors does 196 have?\"},\n",
    "    # {\"role\":\"assistant\", \"content\":\"\"}\n",
    "]\n",
    "\n",
    "inputs = tok.apply_chat_template(conversation, add_generation_prompt=True, tokenize=True, return_tensors=\"pt\").to(model_grpo.device)\n",
    "templated = tok.apply_chat_template(conversation, add_generation_prompt=True, tokenize=False)\n",
    "inputs = tok(\n",
    "    templated, \n",
    "    return_tensors=\"pt\",\n",
    "    padding=\"max_length\",\n",
    "    max_length=100\n",
    "    )\n",
    "print(type(inputs))\n",
    "print(inputs)\n",
    "print(vars(inputs))\n",
    "\n",
    "# Despite returning the usual output, the streamer will also print the generated text to stdout.\n",
    "_ = model_grpo.generate(inputs.input_ids.to(\"cuda\"), \n",
    "                   streamer=streamer, \n",
    "                   max_new_tokens=2000,\n",
    "                   do_sample=False\n",
    "                   )\n"
   ]
  },
  {
   "cell_type": "code",
   "execution_count": 3,
   "metadata": {},
   "outputs": [],
   "source": [
    "# tok.push_to_hub(\"Neelectric/SmolLM2-1.7B-Instruct_GRPO\")"
   ]
  },
  {
   "cell_type": "code",
   "execution_count": null,
   "metadata": {},
   "outputs": [
    {
     "ename": "",
     "evalue": "",
     "output_type": "error",
     "traceback": [
      "\u001b[1;31mRunning cells with '.venv (Python 3.12.4)' requires the ipykernel package.\n",
      "\u001b[1;31mRun the following command to install 'ipykernel' into the Python environment. \n",
      "\u001b[1;31mCommand: '/Users/s2011847/repos/open-r1_olmo/.venv/bin/python -m pip install ipykernel -U --force-reinstall'"
     ]
    }
   ],
   "source": [
    "import json\n",
    "file_path = \"data/Neelectric/SmolLM2-1.7B-Instruct_SFTv00.02/tokenizer_config.json\"\n",
    "with open(file=file_path) as f:\n",
    "    data = json.load(f)\n",
    "\n",
    "print(data)"
   ]
  }
 ],
 "metadata": {
  "kernelspec": {
   "display_name": ".venv",
   "language": "python",
   "name": "python3"
  },
  "language_info": {
   "codemirror_mode": {
    "name": "ipython",
    "version": 3
   },
   "file_extension": ".py",
   "mimetype": "text/x-python",
   "name": "python",
   "nbconvert_exporter": "python",
   "pygments_lexer": "ipython3",
   "version": "3.12.4"
  }
 },
 "nbformat": 4,
 "nbformat_minor": 2
}
