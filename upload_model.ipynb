{
 "cells": [
  {
   "cell_type": "code",
   "execution_count": 1,
   "metadata": {},
   "outputs": [
    {
     "name": "stderr",
     "output_type": "stream",
     "text": [
      "/home/user/repos/open-r1_olmo/.venv/lib/python3.11/site-packages/tqdm/auto.py:21: TqdmWarning: IProgress not found. Please update jupyter and ipywidgets. See https://ipywidgets.readthedocs.io/en/stable/user_install.html\n",
      "  from .autonotebook import tqdm as notebook_tqdm\n"
     ]
    }
   ],
   "source": [
    "from transformers import AutoModelForCausalLM, AutoTokenizer, TextStreamer\n",
    "\n",
    "local_path = \"/home/user/repos/open-r1_olmo/data/HuggingFaceTB/SmolLM2-1.7B-Instruct\"\n",
    "\n",
    "# model_base = AutoModelForCausalLM.from_pretrained(\"HuggingFaceTB/SmolLM2-1.7B-Instruct\", device_map=\"auto\")\n",
    "# model_instruct = AutoModelForCausalLM.from_pretrained(\"Neelectric/SmolLM2-1.7B-Instruct_SFT\", device_map=\"auto\")\n",
    "model_grpo = AutoModelForCausalLM.from_pretrained(local_path, local_files_only=True, device_map=\"auto\")\n",
    "tok = AutoTokenizer.from_pretrained(local_path, local_files_only=True)\n"
   ]
  },
  {
   "cell_type": "code",
   "execution_count": 2,
   "metadata": {},
   "outputs": [
    {
     "name": "stderr",
     "output_type": "stream",
     "text": [
      "The attention mask is not set and cannot be inferred from input because pad token is same as eos token. As a consequence, you may observe unexpected behavior. Please pass your input's `attention_mask` to obtain reliable results.\n"
     ]
    },
    {
     "name": "stdout",
     "output_type": "stream",
     "text": [
      "<|im_start|>system\n",
      "You are a helpful AI assistant named SmolLM, trained by Hugging Face<|im_end|>\n",
      "<|im_start|>user\n",
      "How many positive whole-number divisors does 196 have?<|im_end|>\n",
      "<|im_start|>assistant\n",
      "To find the number of positive whole-number divisors of 196, we can use the prime factorization method.\n",
      "\n",
      "First, we find the prime factorization of 196:\n",
      "196 = 2^2 * 7^2\n",
      "\n",
      "Now, we can use the formula for the number of divisors:\n",
      "Number of divisors = (exponent of prime factor 1) + (exponent of prime factor 2) + ...\n",
      "\n",
      "In this case, the exponents are 2 and 2, so the number of divisors is:\n",
      "Number of divisors = 2 + 2 = 4\n",
      "\n",
      "So, 196 has 4 positive whole-number divisors.<|im_end|>\n"
     ]
    }
   ],
   "source": [
    "inputs = tok([\"How many positive whole-number divisors does 196 have?\"], return_tensors=\"pt\")\n",
    "streamer = TextStreamer(tok)\n",
    "\n",
    "conversation = [\n",
    "    {\"role\":\"user\", \"content\":\"How many positive whole-number divisors does 196 have?\"},\n",
    "    # {\"role\":\"assistant\", \"content\":\"\"}\n",
    "]\n",
    "\n",
    "inputs = tok.apply_chat_template(conversation, add_generation_prompt=True, tokenize=True, return_tensors=\"pt\").to(model_grpo.device)\n",
    "# print(inputs)\n",
    "\n",
    "# Despite returning the usual output, the streamer will also print the generated text to stdout.\n",
    "_ = model_grpo.generate(inputs, \n",
    "                   streamer=streamer, \n",
    "                   max_new_tokens=2000,\n",
    "                   do_sample=False\n",
    "                   )\n"
   ]
  },
  {
   "cell_type": "code",
   "execution_count": 4,
   "metadata": {},
   "outputs": [
    {
     "data": {
      "text/plain": [
       "CommitInfo(commit_url='https://huggingface.co/Neelectric/SmolLM2-1.7B-Instruct_GRPO/commit/edf42b52a52896ac257a5646d136be2b8ed7b3af', commit_message='Upload tokenizer', commit_description='', oid='edf42b52a52896ac257a5646d136be2b8ed7b3af', pr_url=None, repo_url=RepoUrl('https://huggingface.co/Neelectric/SmolLM2-1.7B-Instruct_GRPO', endpoint='https://huggingface.co', repo_type='model', repo_id='Neelectric/SmolLM2-1.7B-Instruct_GRPO'), pr_revision=None, pr_num=None)"
      ]
     },
     "execution_count": 4,
     "metadata": {},
     "output_type": "execute_result"
    }
   ],
   "source": [
    "tok.push_to_hub(\"Neelectric/SmolLM2-1.7B-Instruct_GRPO\")"
   ]
  }
 ],
 "metadata": {
  "kernelspec": {
   "display_name": ".venv",
   "language": "python",
   "name": "python3"
  },
  "language_info": {
   "codemirror_mode": {
    "name": "ipython",
    "version": 3
   },
   "file_extension": ".py",
   "mimetype": "text/x-python",
   "name": "python",
   "nbconvert_exporter": "python",
   "pygments_lexer": "ipython3",
   "version": "3.11.11"
  }
 },
 "nbformat": 4,
 "nbformat_minor": 2
}
